{
 "cells": [
  {
   "cell_type": "code",
   "execution_count": null,
   "metadata": {},
   "outputs": [],
   "source": [
    "## Importar librerias \n",
    "\n",
    "import pandas as pd\n",
    "import seaborn as sns\n",
    "import matplotlib.pyplot as plt\n",
    "import numpy as np"
   ]
  },
  {
   "cell_type": "code",
   "execution_count": null,
   "metadata": {},
   "outputs": [],
   "source": [
    "## Cargamos los datos  \n",
    "\n",
    "df = pd.read_excel('Datos_201901_202009.xlsx')\n",
    "print(df.head())"
   ]
  },
  {
   "cell_type": "code",
   "execution_count": null,
   "metadata": {},
   "outputs": [],
   "source": [
    "print(df.describe()) ## (!) campaña tomada como entero"
   ]
  },
  {
   "cell_type": "code",
   "execution_count": null,
   "metadata": {},
   "outputs": [],
   "source": [
    "df = df.astype({'CAMPAÑA': str})"
   ]
  },
  {
   "cell_type": "code",
   "execution_count": null,
   "metadata": {},
   "outputs": [],
   "source": [
    "print(df.info())"
   ]
  },
  {
   "cell_type": "code",
   "execution_count": null,
   "metadata": {},
   "outputs": [],
   "source": [
    "print(df.isna().sum())"
   ]
  },
  {
   "cell_type": "markdown",
   "metadata": {},
   "source": [
    "## Preparacion de los datos \n",
    "\n",
    "Se busca analizar las variables y encontrar corelaciones para armar el modelo\n",
    "\n",
    "*La suma de los pedidos por grupo representa el 30% de las ventas totales"
   ]
  },
  {
   "cell_type": "code",
   "execution_count": null,
   "metadata": {},
   "outputs": [],
   "source": [
    "sns.set(rc={\"figure.figsize\":(10, 8)}) "
   ]
  },
  {
   "cell_type": "code",
   "execution_count": null,
   "metadata": {},
   "outputs": [],
   "source": [
    "## Se graficaron los pedidos totales para los grupos del 1 al 10\n",
    "for i in range(1,11):\n",
    "    sns.scatterplot(data=df, x = f'GRUPO_{i}', y = 'PEDIDOS_TOTALES')"
   ]
  },
  {
   "cell_type": "markdown",
   "metadata": {},
   "source": [
    "#### Correlación Pearson:"
   ]
  },
  {
   "cell_type": "code",
   "execution_count": null,
   "metadata": {},
   "outputs": [],
   "source": [
    "sns.heatmap(df.corr(method='pearson'), annot=True)"
   ]
  },
  {
   "cell_type": "markdown",
   "metadata": {},
   "source": [
    "Solo se consideraron las variables con un coeficiente de corelacion mayor a 0.3 (corelacion moderada). Por ende, las Xn para el modelo1 se consideraron como:\n",
    "\n",
    "- Grupo 1 (corr = 0.53)\n",
    "- Grupo 2 (corr = 0.45)\n",
    "- Grupo 3 (corr = 0.31)"
   ]
  },
  {
   "cell_type": "code",
   "execution_count": null,
   "metadata": {},
   "outputs": [],
   "source": [
    "## Se analizó los pedidos totales en funcion a cada campaña \n",
    "sns.set(rc={\"figure.figsize\":(28, 8)}) \n",
    "sns.scatterplot(data=df, x='CAMPAÑA', y= 'PEDIDOS_TOTALES',palette='Set2' ) "
   ]
  },
  {
   "cell_type": "markdown",
   "metadata": {},
   "source": [
    "---"
   ]
  },
  {
   "cell_type": "code",
   "execution_count": null,
   "metadata": {},
   "outputs": [],
   "source": [
    "## Se analizaron los pedidos totales por grupo uno a uno para ver la distribucion de los datos \n",
    "sns.set(rc={\"figure.figsize\":(8, 8)}) \n",
    "\n",
    "\n",
    "sns.scatterplot(data=df, x='GRUPO_1', y= f'PEDIDOS_TOTALES',palette='Set2' ) #ok (corr = 0.53)"
   ]
  },
  {
   "cell_type": "code",
   "execution_count": null,
   "metadata": {},
   "outputs": [],
   "source": [
    "sns.scatterplot(data=df, x='GRUPO_2', y= f'PEDIDOS_TOTALES',palette='Set2' ) #ok (corr = 0.45)"
   ]
  },
  {
   "cell_type": "code",
   "execution_count": null,
   "metadata": {},
   "outputs": [],
   "source": [
    "sns.scatterplot(data=df, x='GRUPO_3', y= f'PEDIDOS_TOTALES',palette='Set2' ) #ok"
   ]
  },
  {
   "cell_type": "code",
   "execution_count": null,
   "metadata": {},
   "outputs": [],
   "source": [
    "sns.scatterplot(data=df, x='GRUPO_4', y= f'PEDIDOS_TOTALES',palette='Set2' ) #no"
   ]
  },
  {
   "cell_type": "code",
   "execution_count": null,
   "metadata": {},
   "outputs": [],
   "source": [
    "sns.scatterplot(data=df, x='GRUPO_5', y= f'PEDIDOS_TOTALES',palette='Set2' ) #no"
   ]
  },
  {
   "cell_type": "code",
   "execution_count": null,
   "metadata": {},
   "outputs": [],
   "source": [
    "sns.scatterplot(data=df, x='GRUPO_6', y= f'PEDIDOS_TOTALES',palette='Set2' ) #no"
   ]
  },
  {
   "cell_type": "code",
   "execution_count": null,
   "metadata": {},
   "outputs": [],
   "source": [
    "sns.scatterplot(data=df, x='GRUPO_7', y= f'PEDIDOS_TOTALES',palette='Set2' ) #ok // corr = 0.31"
   ]
  },
  {
   "cell_type": "code",
   "execution_count": null,
   "metadata": {},
   "outputs": [],
   "source": [
    "sns.scatterplot(data=df, x='GRUPO_8', y= f'PEDIDOS_TOTALES',palette='Set2' ) #no"
   ]
  },
  {
   "cell_type": "code",
   "execution_count": null,
   "metadata": {},
   "outputs": [],
   "source": [
    "sns.scatterplot(data=df, x='GRUPO_9', y= f'PEDIDOS_TOTALES',palette='Set2' ) #no"
   ]
  },
  {
   "cell_type": "code",
   "execution_count": null,
   "metadata": {},
   "outputs": [],
   "source": [
    "sns.scatterplot(data=df, x='GRUPO_10', y= f'PEDIDOS_TOTALES',palette='Set2' ) #no // corr = 0.28"
   ]
  },
  {
   "cell_type": "markdown",
   "metadata": {},
   "source": [
    "---"
   ]
  },
  {
   "cell_type": "markdown",
   "metadata": {},
   "source": [
    "## Modelamiento de los datos\n"
   ]
  },
  {
   "cell_type": "markdown",
   "metadata": {},
   "source": [
    "### Regresion Linea Multiple - Modelo 1\n",
    "\n",
    "Y = Pedidos totales\n",
    "\n",
    "Xn = Grupo1 , Grupo2, Grupo3 \n",
    "\n",
    "Outcome: predecir los pedidos totales, en función a los pedidos de cada grupo n. \n",
    "\n",
    "Para este modelo se trabajó con los grupos 1,2,3 ya que su coeficiente de correlacion era mayor a 0.3"
   ]
  },
  {
   "cell_type": "code",
   "execution_count": null,
   "metadata": {},
   "outputs": [],
   "source": [
    "# Librerias para el modelo de regreesion\n",
    "from sklearn.linear_model import LinearRegression\n",
    "from sklearn.model_selection import train_test_split\n",
    "from sklearn.metrics import r2_score, mean_squared_error"
   ]
  },
  {
   "cell_type": "code",
   "execution_count": null,
   "metadata": {},
   "outputs": [],
   "source": [
    "for i in range(1,4):\n",
    "    sns.scatterplot(data=df, x = f'GRUPO_{i}', y = 'PEDIDOS_TOTALES')"
   ]
  },
  {
   "cell_type": "code",
   "execution_count": null,
   "metadata": {},
   "outputs": [],
   "source": [
    "## Se aplico un Modelo de Regresion Lineal para hallar los coeficientes de la ecuacion\n",
    "\n",
    "X = df.iloc[:,0:3]\n",
    "X\n",
    "\n",
    "\n",
    "y = df['PEDIDOS_TOTALES']\n",
    "X_train, X_test, y_train,y_test = train_test_split(X,y)\n",
    "\n",
    "lin = LinearRegression()\n",
    "lin.fit(X_train,y_train)\n",
    "y_pred = lin.predict(X_train)\n",
    "coef = lin.coef_\n",
    "print(coef)"
   ]
  },
  {
   "cell_type": "code",
   "execution_count": null,
   "metadata": {},
   "outputs": [],
   "source": [
    "## Ecuacion de la recta ## y = mx1x1 + ... m3x3 + b \n",
    "\n",
    "ecuacion = pd.DataFrame((zip)(X.columns,coef), columns =['grupo','coeficiente m'])\n",
    "ecuacion = ecuacion.append({'grupo':'intercepto b','coeficiente m':lin.intercept_},ignore_index=True)\n",
    "print(ecuacion)\n",
    "\n",
    "ecuacion.to_csv('coeficientes.csv')"
   ]
  },
  {
   "cell_type": "code",
   "execution_count": null,
   "metadata": {},
   "outputs": [],
   "source": [
    "## Graficamos los datos y la recta de regresion\n",
    "\n",
    "for i in range(1,4):\n",
    "    sns.scatterplot(data=df, x = f'GRUPO_{i}', y = 'PEDIDOS_TOTALES')\n",
    "\n",
    "x_value = [x for x in range(0,9000)]\n",
    "y_value = [x * coef[0] + coef[1] * 2 *x + coef[2] * 3 *x for x in x_value] + lin.intercept_\n",
    "\n",
    "sns.lineplot(x_value,y_value)\n",
    "plt.xlabel('Pedidos por grupo')\n",
    "plt.ylabel('Pedidos totales')\n",
    "plt.title('Ajuste de regresion lineal - Pedidos Totales vs G1,G2 y G3')\n"
   ]
  },
  {
   "cell_type": "code",
   "execution_count": null,
   "metadata": {},
   "outputs": [],
   "source": [
    "g1 = int(input(\"Ingrese las ventas del Grupo 1: \"))\n",
    "g2 = int(input(\"Ingrese las ventas del Grupo 2: \"))\n",
    "g3 = int(input(\"Ingrese las ventas del Grupo 3: \"))\n",
    "\n",
    "ecuacion = round(coef[0]*g1 + coef[1]*g2 + coef[2]*g3 + lin.intercept_,2)\n",
    "print(\"Los pedidos totales predichos segun el metodo de regresion lineal seran\", ecuacion , \"pedidos aproximadamente\")"
   ]
  },
  {
   "cell_type": "code",
   "execution_count": null,
   "metadata": {},
   "outputs": [],
   "source": [
    "## Evaluando el criterio R2 y MSE\n",
    "\n",
    "print('Error cuadratico Medio: ' + str(mean_squared_error(y_train,y_pred)))\n",
    "print('R2 score ' + str(r2_score(y_train,y_pred)))"
   ]
  },
  {
   "cell_type": "code",
   "execution_count": null,
   "metadata": {},
   "outputs": [],
   "source": [
    "df[\"REGRESION_LINEAL\"] = [(x) for x in y_value[:27]] ## igualando tamaño"
   ]
  },
  {
   "cell_type": "code",
   "execution_count": null,
   "metadata": {},
   "outputs": [],
   "source": [
    "df"
   ]
  },
  {
   "cell_type": "markdown",
   "metadata": {},
   "source": [
    "-----"
   ]
  },
  {
   "cell_type": "markdown",
   "metadata": {},
   "source": [
    "### Regresion Lineal Simple - Modelo 2 \n",
    "\n",
    "- Se modelaron las variables GRUPO individualmente para los 3 grupos\n",
    "- Las variables de prueba y entrenamiento no fueron divididas "
   ]
  },
  {
   "cell_type": "code",
   "execution_count": null,
   "metadata": {},
   "outputs": [],
   "source": [
    "## Regresion lineal X = GRUPO_1\n",
    "\n",
    "X1 = df['GRUPO_1'].values.reshape(-1,1)\n",
    "y1 = df['PEDIDOS_TOTALES'].values.reshape(-1,1)\n",
    "modeloG1 = LinearRegression()\n",
    "modeloG1.fit(X1,y1)\n",
    "y_pred1 = modeloG1.predict(X1)\n",
    "\n",
    "modeloG1.coef_\n",
    "modeloG1.intercept_\n",
    "\n",
    "\n",
    "plt.scatter(X1,y1)\n",
    "plt.plot(X1,y_pred1)\n",
    "plt.ylabel('Ajuste de regresion lineal - Pedidos Totales vs G1')\n",
    "plt.xlabel('PEDIDOS GRUPO_1')\n",
    "plt.ylabel('PEDIDOS TOTALES')\n",
    "\n",
    "print('Error cuadratico Medio: ' + str(mean_squared_error(y1,y_pred1)))\n",
    "print('R2 score ' + str(r2_score(y1,y_pred1)))\n"
   ]
  },
  {
   "cell_type": "code",
   "execution_count": null,
   "metadata": {},
   "outputs": [],
   "source": [
    "## Regresion lineal X = GRUPO_2\n",
    "\n",
    "X2 = df['GRUPO_2'].values.reshape(-1,1)\n",
    "y2 = df['PEDIDOS_TOTALES'].values.reshape(-1,1)\n",
    "modeloG2 = LinearRegression()\n",
    "modeloG2.fit(X2,y2)\n",
    "y_pred2 = modeloG2.predict(X2)\n",
    "\n",
    "modeloG2.coef_\n",
    "modeloG2.intercept_\n",
    "\n",
    "\n",
    "plt.scatter(X2,y2)\n",
    "plt.plot(X2,y_pred2)\n",
    "plt.ylabel('Ajuste de regresion lineal - Pedidos Totales vs G2')\n",
    "plt.xlabel('PEDIDOS GRUPO_1')\n",
    "plt.ylabel('PEDIDOS TOTALES')\n",
    "\n",
    "print('Error cuadratico Medio: ' + str(mean_squared_error(y2,y_pred2)))\n",
    "print('R2 score ' + str(r2_score(y2,y_pred2)))\n"
   ]
  },
  {
   "cell_type": "code",
   "execution_count": null,
   "metadata": {},
   "outputs": [],
   "source": [
    "## Regresion lineal X = GRUPO_3\n",
    "\n",
    "X3 = df['GRUPO_3'].values.reshape(-1,1)\n",
    "y3 = df['PEDIDOS_TOTALES'].values.reshape(-1,1)\n",
    "modeloG3 = LinearRegression()\n",
    "modeloG3.fit(X3,y3)\n",
    "y_pred3 = modeloG3.predict(X3)\n",
    "\n",
    "modeloG3.coef_\n",
    "modeloG3.intercept_\n",
    "\n",
    "\n",
    "plt.scatter(X3,y3)\n",
    "plt.plot(X3,y_pred3)\n",
    "plt.ylabel('Ajuste de regresion lineal - Pedidos Totales vs G3')\n",
    "plt.xlabel('PEDIDOS GRUPO_1')\n",
    "plt.ylabel('PEDIDOS TOTALES')\n",
    "\n",
    "print('Error cuadratico Medio: ' + str(mean_squared_error(y3,y_pred3)))\n",
    "print('R2 score ' + str(r2_score(y3,y_pred3)))\n"
   ]
  },
  {
   "cell_type": "code",
   "execution_count": null,
   "metadata": {},
   "outputs": [],
   "source": [
    "plt.plot(X1,y_pred1)\n",
    "plt.plot(X2,y_pred2)\n",
    "plt.plot(X3,y_pred3)"
   ]
  },
  {
   "cell_type": "markdown",
   "metadata": {},
   "source": [
    "### Conclusiones y recomendaciones I\n",
    "\n",
    "\n",
    "\n",
    "- Se concluye que este modelo de regresión lineal aplicado a los pedidos totales no ha sido adecuado para hacer predicciones acertadas, ya que su R2 tiende a ser inferior a 0.5, tomando como media valores de 0.3, llegando incluso a tener valores inferiores a 0.1 \n",
    "\n",
    "\n",
    "\n",
    "\n",
    "\n",
    "- Se infiere que la relación entre los pedidos por grupo y los pedidos totales es No-Lineal.\n",
    "\n",
    "\n",
    "\n",
    "\n",
    "\n",
    "- Las variables de respuesta elegidas, no han sido significativas para el modelo. Probablemente con una mayor cantidad de variables y datos, el modelo describiría mejor al comportamiento de los pedidos totales."
   ]
  },
  {
   "cell_type": "markdown",
   "metadata": {},
   "source": [
    "### Promedio Móvil:\n",
    "\n",
    "Asumimos un comportamiento estacionario\n",
    "\n",
    "Outcome: predecir los pedidos totales de la campaña n+1 basandonos en las n campañas pasadas. \n",
    "\n",
    "#### Variables:\n",
    "\n",
    "Y = Pedidos totales\n",
    "\n",
    "\n",
    "t = Campaña (201901 - 202009)\n",
    "\n",
    "\n",
    "Periodo de medicion: inicio de una campaña. Es decir, 201901 -> 201902"
   ]
  },
  {
   "cell_type": "code",
   "execution_count": null,
   "metadata": {},
   "outputs": [],
   "source": [
    "sns.scatterplot(data=df, x='CAMPAÑA', y= 'PEDIDOS_TOTALES',palette='Set2' ) "
   ]
  },
  {
   "cell_type": "code",
   "execution_count": null,
   "metadata": {},
   "outputs": [],
   "source": [
    "df[\"PEDIDOS_TOTALES\"].plot(figsize =(10,10))"
   ]
  },
  {
   "cell_type": "code",
   "execution_count": null,
   "metadata": {},
   "outputs": [],
   "source": [
    "df.rename({\"CAMPAÑA\" : \"FECHA\"}, axis=1,inplace=True)\n",
    "df"
   ]
  },
  {
   "cell_type": "code",
   "execution_count": null,
   "metadata": {},
   "outputs": [],
   "source": [
    "##df[\"FECHA\"] = pd.to_datetime(df[\"FECHA\"])\n",
    "df = df.set_index(\"FECHA\")\n",
    "df"
   ]
  },
  {
   "cell_type": "code",
   "execution_count": null,
   "metadata": {},
   "outputs": [],
   "source": [
    "df[\"PEDIDOS_TOTALES\"].plot(figsize =(10,10))"
   ]
  },
  {
   "cell_type": "code",
   "execution_count": null,
   "metadata": {},
   "outputs": [],
   "source": [
    "df[\"PEDIDOS_TOTALES\"].plot(figsize =(10,10))\n",
    "df['PEDIDOS_TOTALES'].rolling(window=3).mean().plot()"
   ]
  },
  {
   "cell_type": "code",
   "execution_count": null,
   "metadata": {},
   "outputs": [],
   "source": [
    "df['PROMEDIO_MOVIL'] = df['PEDIDOS_TOTALES'].rolling(window=3).mean()\n"
   ]
  },
  {
   "cell_type": "code",
   "execution_count": null,
   "metadata": {},
   "outputs": [],
   "source": [
    "mediciones = df['PEDIDOS_TOTALES'].count()"
   ]
  },
  {
   "cell_type": "code",
   "execution_count": null,
   "metadata": {},
   "outputs": [],
   "source": [
    "pedidos_siguiente_campaña = df['PROMEDIO_MOVIL'].sum() / df['PROMEDIO_MOVIL'].count() ## Pronostico de los pedidos para la campaña n+1\n",
    "print(\"Usando el metodo de Promedio Movil, los pedidos totales predichos para la medicion numero\",mediciones+1, \"seran\", round(pedidos_siguiente_campaña,2),\"pedidos aproximadamente\")"
   ]
  },
  {
   "cell_type": "markdown",
   "metadata": {},
   "source": [
    "### Conclusiones y recomendaciones II\n",
    "\n",
    "\n",
    "\n",
    "- Se puede inferir que el comportamiento de la demanda es estacionario\n",
    "\n",
    "\n",
    "\n",
    "\n",
    "\n",
    "- Este modelo tiene la limitación de que solo puede predecir un periodo mas (en este caso, la siguiente campaña)\n",
    "\n",
    "\n",
    "\n",
    "\n",
    "\n",
    "- Para la realización del modelo solo se contó con 27 mediciones recientes, por lo que fue útil aplicar promedio móvil\n",
    "\n",
    "\n",
    "\n",
    "\n",
    "\n",
    "- El promedio móvil pone énfasis en las ultimas mediciones, en caso se tengan mas datos históricos la capacidad de predecir los pedidos totales disminuiría ya que se podrían estar ignorando correlaciones y data significativa\n",
    "\n"
   ]
  }
 ],
 "metadata": {
  "interpreter": {
   "hash": "aee8b7b246df8f9039afb4144a1f6fd8d2ca17a180786b69acc140d282b71a49"
  },
  "kernelspec": {
   "display_name": "Python 3.9.7 64-bit",
   "language": "python",
   "name": "python3"
  },
  "language_info": {
   "codemirror_mode": {
    "name": "ipython",
    "version": 3
   },
   "file_extension": ".py",
   "mimetype": "text/x-python",
   "name": "python",
   "nbconvert_exporter": "python",
   "pygments_lexer": "ipython3",
   "version": "3.9.7"
  },
  "orig_nbformat": 4
 },
 "nbformat": 4,
 "nbformat_minor": 2
}
