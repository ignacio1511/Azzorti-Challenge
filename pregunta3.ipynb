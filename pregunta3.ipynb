{
 "cells": [
  {
   "cell_type": "code",
   "execution_count": null,
   "metadata": {},
   "outputs": [],
   "source": [
    "## Importar librerias \n",
    "\n",
    "import pandas as pd\n",
    "import seaborn as sns\n",
    "from sklearn.linear_model import LinearRegression\n",
    "from sklearn.model_selection import train_test_split"
   ]
  },
  {
   "cell_type": "code",
   "execution_count": null,
   "metadata": {},
   "outputs": [],
   "source": [
    "## Cargamos los datos  \n",
    "\n",
    "df = pd.read_excel('Datos_201901_202009.xlsx')\n",
    "print(df.head())"
   ]
  },
  {
   "cell_type": "code",
   "execution_count": null,
   "metadata": {},
   "outputs": [],
   "source": [
    "print(df.describe())"
   ]
  },
  {
   "cell_type": "code",
   "execution_count": null,
   "metadata": {},
   "outputs": [],
   "source": [
    "print(df.info())"
   ]
  },
  {
   "cell_type": "code",
   "execution_count": null,
   "metadata": {},
   "outputs": [],
   "source": [
    "print(df.isna().sum())"
   ]
  },
  {
   "cell_type": "code",
   "execution_count": 32,
   "metadata": {},
   "outputs": [
    {
     "data": {
      "image/png": "[encoded data removed]",
      "text/plain": [
       "<Figure size 432x288 with 1 Axes>"
      ]
     },
     "metadata": {
      "needs_background": "light"
     },
     "output_type": "display_data"
    }
   ],
   "source": [
    "for i in range(1,8):\n",
    "    sns.scatterplot(data=df, x='PEDIDOS_TOTALES', y= f'GRUPO_{i}',)\n",
    "\n",
    "## Observamos el comportamiento de los pedidos totales (21 dias) en funcion a las ventas por grupo de los 3 primeros dias.\n",
    "## Se observa que tienen un comportamiento lineal y = mx + b"
   ]
  },
  {
   "cell_type": "code",
   "execution_count": 39,
   "metadata": {},
   "outputs": [
    {
     "name": "stdout",
     "output_type": "stream",
     "text": [
      "[50697.55486518 43053.05611426 50481.15007143 58822.63460827\n",
      " 62769.04602476 54019.50073021 48232.02033071]\n",
      "[ 5.12232602e+00  3.77279858e-02  3.27078371e+00 -5.16491939e+00\n",
      " -9.64641690e+00  1.19330462e+01 -2.73430010e+02  2.94614854e+01\n",
      "  4.68014240e+01  6.52521369e+01]\n",
      "        grupo  coeficiente m\n",
      "0     GRUPO_1       5.122326\n",
      "1     GRUPO_2       0.037728\n",
      "2     GRUPO_3       3.270784\n",
      "3     GRUPO_4      -5.164919\n",
      "4     GRUPO_5      -9.646417\n",
      "5     GRUPO_6      11.933046\n",
      "6     GRUPO_7    -273.430010\n",
      "7     GRUPO_8      29.461485\n",
      "8     GRUPO_9      46.801424\n",
      "9    GRUPO_10      65.252137\n",
      "10  intercept   23342.292179\n"
     ]
    }
   ],
   "source": [
    "## Se aplica un Modelo de Regresion Lineal para hallar los coeficientes de la ecuacion\n",
    "## y = mx1x1 + ... m10x10 + b // m = coeficiente, x = ventas por grupos\n",
    "\n",
    "X = df.iloc[:,1:11]\n",
    "y =df['PEDIDOS_TOTALES']\n",
    "X_train, X_test, y_train,y_test = train_test_split(X,y)\n",
    "\n",
    "\n",
    "lin = LinearRegression()\n",
    "lin.fit(X_train,y_train)\n",
    "\n",
    "y_pred = lin.predict(X_test)\n",
    "print(y_pred)\n",
    "\n",
    "coef = lin.coef_\n",
    "print(coef)\n",
    "\n",
    "\n",
    "ecuacion = pd.DataFrame((zip)(X.columns,coef), columns =['grupo','coeficiente m'])\n",
    "ecuacion = ecuacion.append({'grupo':'intercepto b','coeficiente m':lin.intercept_},ignore_index=True)\n",
    "print(ecuacion)"
   ]
  }
 ],
 "metadata": {
  "interpreter": {
   "hash": "aee8b7b246df8f9039afb4144a1f6fd8d2ca17a180786b69acc140d282b71a49"
  },
  "kernelspec": {
   "display_name": "Python 3.9.7 64-bit",
   "language": "python",
   "name": "python3"
  },
  "language_info": {
   "codemirror_mode": {
    "name": "ipython",
    "version": 3
   },
   "file_extension": ".py",
   "mimetype": "text/x-python",
   "name": "python",
   "nbconvert_exporter": "python",
   "pygments_lexer": "ipython3",
   "version": "3.9.7"
  },
  "orig_nbformat": 4
 },
 "nbformat": 4,
 "nbformat_minor": 2
}
