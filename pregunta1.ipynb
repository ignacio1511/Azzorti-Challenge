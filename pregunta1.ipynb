{
 "cells": [
  {
   "cell_type": "code",
   "execution_count": 7,
   "metadata": {},
   "outputs": [],
   "source": [
    "import pandas as pd\n",
    "import seaborn as sns\n",
    "#pip install openpyxl "
   ]
  },
  {
   "cell_type": "markdown",
   "metadata": {},
   "source": [
    "#### Pregunta N ° 1 - Objetivos:\n",
    "\n",
    "Elaborar una tabla con la facturación de cada producto considerando la zona.  "
   ]
  },
  {
   "cell_type": "code",
   "execution_count": 8,
   "metadata": {},
   "outputs": [],
   "source": [
    "# Cargamos como un DataFrame (DF) los datos a analizar\n",
    "\n",
    "df = pd.read_excel(\"FACT_TOTAL.XLSX\", sheet_name = \"BASE\")\n",
    "df\n",
    "\n",
    "# Cargamos el Excel donde iran las respuestas\n",
    "pregunta1 = pd.read_excel(\"pregunta1.xlsx\")"
   ]
  },
  {
   "cell_type": "markdown",
   "metadata": {},
   "source": [
    "#### Analisis general\n"
   ]
  },
  {
   "cell_type": "code",
   "execution_count": 9,
   "metadata": {},
   "outputs": [],
   "source": [
    "## Declaracion de variables\n",
    "\n",
    "id_zona = df['CODIGO_ZONA']\n",
    "id_comprador = df['CODIGO_DE_COMPRADOR']\n",
    "cantidad_pedida = df['CANTIDAD_PEDIDA']\n",
    "cantidad_despachada = df['CANTIDAD_DESPACHADA']\n",
    "id_producto = df['CODIGO_DEL_PRODUCTO']"
   ]
  },
  {
   "cell_type": "code",
   "execution_count": 10,
   "metadata": {},
   "outputs": [
    {
     "name": "stdout",
     "output_type": "stream",
     "text": [
      "<class 'pandas.core.frame.DataFrame'>\n",
      "RangeIndex: 169305 entries, 0 to 169304\n",
      "Data columns (total 5 columns):\n",
      " #   Column               Non-Null Count   Dtype \n",
      "---  ------               --------------   ----- \n",
      " 0   CODIGO_ZONA          169305 non-null  int64 \n",
      " 1   CODIGO_DE_COMPRADOR  169305 non-null  int64 \n",
      " 2   CANTIDAD_PEDIDA      169305 non-null  int64 \n",
      " 3   CANTIDAD_DESPACHADA  169305 non-null  int64 \n",
      " 4   CODIGO_DEL_PRODUCTO  169305 non-null  object\n",
      "dtypes: int64(4), object(1)\n",
      "memory usage: 6.5+ MB\n"
     ]
    }
   ],
   "source": [
    "## Informacion sobre las columnas\n",
    "\n",
    "df.info() # los ids de los productos son de tipo objeto. Se procede a analizar los datos de la columna."
   ]
  },
  {
   "cell_type": "code",
   "execution_count": 11,
   "metadata": {},
   "outputs": [
    {
     "data": {
      "text/html": [
       "<div>\n",
       "<style scoped>\n",
       "    .dataframe tbody tr th:only-of-type {\n",
       "        vertical-align: middle;\n",
       "    }\n",
       "\n",
       "    .dataframe tbody tr th {\n",
       "        vertical-align: top;\n",
       "    }\n",
       "\n",
       "    .dataframe thead th {\n",
       "        text-align: right;\n",
       "    }\n",
       "</style>\n",
       "<table border=\"1\" class=\"dataframe\">\n",
       "  <thead>\n",
       "    <tr style=\"text-align: right;\">\n",
       "      <th></th>\n",
       "      <th>CODIGO_ZONA</th>\n",
       "      <th>CODIGO_DE_COMPRADOR</th>\n",
       "      <th>CANTIDAD_PEDIDA</th>\n",
       "      <th>CANTIDAD_DESPACHADA</th>\n",
       "    </tr>\n",
       "  </thead>\n",
       "  <tbody>\n",
       "    <tr>\n",
       "      <th>count</th>\n",
       "      <td>169305.000000</td>\n",
       "      <td>169305.000000</td>\n",
       "      <td>169305.000000</td>\n",
       "      <td>169305.000000</td>\n",
       "    </tr>\n",
       "    <tr>\n",
       "      <th>mean</th>\n",
       "      <td>322.621511</td>\n",
       "      <td>333875.442592</td>\n",
       "      <td>2.999368</td>\n",
       "      <td>2.498284</td>\n",
       "    </tr>\n",
       "    <tr>\n",
       "      <th>std</th>\n",
       "      <td>172.744022</td>\n",
       "      <td>188629.636448</td>\n",
       "      <td>0.816227</td>\n",
       "      <td>0.958236</td>\n",
       "    </tr>\n",
       "    <tr>\n",
       "      <th>min</th>\n",
       "      <td>101.000000</td>\n",
       "      <td>37.000000</td>\n",
       "      <td>2.000000</td>\n",
       "      <td>1.000000</td>\n",
       "    </tr>\n",
       "    <tr>\n",
       "      <th>25%</th>\n",
       "      <td>157.000000</td>\n",
       "      <td>196568.000000</td>\n",
       "      <td>2.000000</td>\n",
       "      <td>2.000000</td>\n",
       "    </tr>\n",
       "    <tr>\n",
       "      <th>50%</th>\n",
       "      <td>311.000000</td>\n",
       "      <td>324571.000000</td>\n",
       "      <td>3.000000</td>\n",
       "      <td>2.000000</td>\n",
       "    </tr>\n",
       "    <tr>\n",
       "      <th>75%</th>\n",
       "      <td>407.000000</td>\n",
       "      <td>436874.000000</td>\n",
       "      <td>4.000000</td>\n",
       "      <td>3.000000</td>\n",
       "    </tr>\n",
       "    <tr>\n",
       "      <th>max</th>\n",
       "      <td>828.000000</td>\n",
       "      <td>999389.000000</td>\n",
       "      <td>4.000000</td>\n",
       "      <td>4.000000</td>\n",
       "    </tr>\n",
       "  </tbody>\n",
       "</table>\n",
       "</div>"
      ],
      "text/plain": [
       "         CODIGO_ZONA  CODIGO_DE_COMPRADOR  CANTIDAD_PEDIDA  \\\n",
       "count  169305.000000        169305.000000    169305.000000   \n",
       "mean      322.621511        333875.442592         2.999368   \n",
       "std       172.744022        188629.636448         0.816227   \n",
       "min       101.000000            37.000000         2.000000   \n",
       "25%       157.000000        196568.000000         2.000000   \n",
       "50%       311.000000        324571.000000         3.000000   \n",
       "75%       407.000000        436874.000000         4.000000   \n",
       "max       828.000000        999389.000000         4.000000   \n",
       "\n",
       "       CANTIDAD_DESPACHADA  \n",
       "count        169305.000000  \n",
       "mean              2.498284  \n",
       "std               0.958236  \n",
       "min               1.000000  \n",
       "25%               2.000000  \n",
       "50%               2.000000  \n",
       "75%               3.000000  \n",
       "max               4.000000  "
      ]
     },
     "execution_count": 11,
     "metadata": {},
     "output_type": "execute_result"
    }
   ],
   "source": [
    "## Analisis estadistico \n",
    "\n",
    "df.describe()"
   ]
  },
  {
   "cell_type": "code",
   "execution_count": null,
   "metadata": {},
   "outputs": [],
   "source": [
    "## Valores de las distintas columnas\n",
    "\n",
    "print(set(id_producto)) # (!) tiene caracteres entre los numeros\n",
    "print(set(id_zona)) # ok\n",
    "print(set(cantidad_pedida)) # ok\n",
    "print(set(cantidad_despachada)) #ok\n",
    "\n",
    "## Ver cuantas zonas y cuantos productos hay\n",
    "\n",
    "print(len(set(id_zona))) #163 Zonas de reparto unicas\n",
    "print(len(set(id_producto))) #801 Productos unicos"
   ]
  },
  {
   "cell_type": "markdown",
   "metadata": {},
   "source": [
    "#### Eliminar caracteres y convertir los ids de producto en enteros"
   ]
  },
  {
   "cell_type": "code",
   "execution_count": 13,
   "metadata": {},
   "outputs": [],
   "source": [
    "id_producto.replace({'X':'','V':''}, regex=True, inplace=True)"
   ]
  },
  {
   "cell_type": "code",
   "execution_count": null,
   "metadata": {},
   "outputs": [],
   "source": [
    "set(id_producto)"
   ]
  },
  {
   "cell_type": "code",
   "execution_count": 15,
   "metadata": {},
   "outputs": [],
   "source": [
    "df = df.astype({\"CODIGO_DEL_PRODUCTO\" : int})"
   ]
  },
  {
   "cell_type": "code",
   "execution_count": null,
   "metadata": {},
   "outputs": [],
   "source": [
    "df.dtypes"
   ]
  },
  {
   "cell_type": "markdown",
   "metadata": {},
   "source": [
    "#### Preparar los datos"
   ]
  },
  {
   "cell_type": "code",
   "execution_count": null,
   "metadata": {},
   "outputs": [],
   "source": [
    "ventas_por_producto_y_zona = pd.DataFrame(df.groupby(['CODIGO_DEL_PRODUCTO', 'CODIGO_ZONA'])['CANTIDAD_PEDIDA'].sum().sort_values(ascending = False))\n",
    "ventas_por_producto_y_zona"
   ]
  },
  {
   "cell_type": "code",
   "execution_count": null,
   "metadata": {},
   "outputs": [],
   "source": [
    "despachos_por_producto_y_zona = pd.DataFrame(df.groupby(['CODIGO_DEL_PRODUCTO', 'CODIGO_ZONA'])['CANTIDAD_DESPACHADA'].sum().sort_values(ascending = False))\n",
    "despachos_por_producto_y_zona.sort_values('CODIGO_ZONA')"
   ]
  },
  {
   "cell_type": "code",
   "execution_count": null,
   "metadata": {},
   "outputs": [],
   "source": [
    "compradores_por_zona = pd.DataFrame(df.groupby(['CODIGO_ZONA'])['CODIGO_DE_COMPRADOR'].count().sort_values(ascending = False))\n",
    "compradores_por_zona.sort_values('CODIGO_ZONA')\n",
    "\n",
    "##compradores_por_zona.to_excel(pregunta1,sheet_name= \"compradores_por_zona\", index = False)"
   ]
  },
  {
   "cell_type": "code",
   "execution_count": null,
   "metadata": {},
   "outputs": [],
   "source": [
    "compradores_por_zona.rename({'CODIGO_DE_COMPRADOR': 'NUM_COMPRADORES'},axis=1,inplace=True)\n",
    "compradores_por_zona"
   ]
  },
  {
   "cell_type": "code",
   "execution_count": 24,
   "metadata": {},
   "outputs": [],
   "source": [
    "compradores_por_zona.to_excel('compradores.xlsx')"
   ]
  },
  {
   "cell_type": "code",
   "execution_count": 25,
   "metadata": {},
   "outputs": [],
   "source": [
    "ventas_por_producto_y_zona[\"CANTIDAD_DESPACHADA\"] = despachos_por_producto_y_zona[\"CANTIDAD_DESPACHADA\"]\n",
    "ventas_por_producto_y_zona.sort_values('CODIGO_DEL_PRODUCTO')\n",
    "ventas_por_producto_y_zona = df\n"
   ]
  },
  {
   "cell_type": "code",
   "execution_count": null,
   "metadata": {},
   "outputs": [],
   "source": [
    "df[\"Variacion\"] = (df[\"CANTIDAD_DESPACHADA\"] - df[\"CANTIDAD_PEDIDA\"])/(df[\"CANTIDAD_PEDIDA\"])*100\n",
    "df"
   ]
  }
 ],
 "metadata": {
  "interpreter": {
   "hash": "aee8b7b246df8f9039afb4144a1f6fd8d2ca17a180786b69acc140d282b71a49"
  },
  "kernelspec": {
   "display_name": "Python 3.9.7 64-bit",
   "language": "python",
   "name": "python3"
  },
  "language_info": {
   "codemirror_mode": {
    "name": "ipython",
    "version": 3
   },
   "file_extension": ".py",
   "mimetype": "text/x-python",
   "name": "python",
   "nbconvert_exporter": "python",
   "pygments_lexer": "ipython3",
   "version": "3.9.7"
  },
  "orig_nbformat": 4
 },
 "nbformat": 4,
 "nbformat_minor": 2
}
